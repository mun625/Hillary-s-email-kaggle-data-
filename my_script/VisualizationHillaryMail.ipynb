{
 "cells": [
  {
   "cell_type": "markdown",
   "metadata": {},
   "source": [
    "# Hillary Clinton's Emails\n",
    "\n",
    "Throughout 2015, Hillary Clinton used personal e-mail account during her time as the United States Secretary of State.<br>\n",
    "There were some political issues with usage of personal account.<br>\n",
    "For the reason of recordkeeping of government activity, the government decide to release the e-mails.\n",
    "<br><br>\n",
    "**You can find the datasets and codes** that convert pdf to sentences from [hillary-email-code-data.](https://github.com/benhamner/hillary-clinton-emails)\n",
    "<br><br>\n",
    "And this notebook is made for [coursera courses](https://www.coursera.org/learn/predictive-analytics/home/welcome) assignment. You can find more deep analysis from my [git hub account](https://github.com/mun625/Hillary-s-email-kaggle-data-)."
   ]
  },
  {
   "cell_type": "markdown",
   "metadata": {},
   "source": [
    "## Part1. Problem Description\n",
    "There are approximately 7000 mails in this dataset. Analyze the emails body-texts and draw some useful informations or visualize some important facts from datas. <br>\n",
    "(So I can say this kaggle competition is quiet open-ended project) <br>\n",
    "You can skip below code section. (load mail data and define some custom functions to analyze)"
   ]
  },
  {
   "cell_type": "code",
   "execution_count": 52,
   "metadata": {
    "collapsed": false
   },
   "outputs": [],
   "source": [
    "# -*- coding: utf-8 -*-\n",
    "import pandas as pd\n",
    "import numpy as np\n",
    "import re\n",
    "import math\n",
    "from sentiment_score import WordDicToScore\n",
    "import matplotlib.pyplot as plt\n",
    "%matplotlib inline\n",
    "\n",
    "def DeletePunctuation(word):\n",
    "    my_word = word\n",
    "    for c in [\"'\", \",\", \"°\", \"•\", \"`\", '\"', \"‘\", \"-\", \".\"]:\n",
    "        my_word = my_word.replace(c, \"\")\n",
    "    return my_word\n",
    "\n",
    "def SentenceToWordList(sentence):\n",
    "    sentence = str(sentence)\n",
    "    word_list = re.split(' |[\\r\\n]+', sentence)\t\t\t\t\t\t\t\t# split the sentence into words\n",
    "    word_list = [DeletePunctuation(word.lower()) for word in word_list]\t\t# delete punctuations which is unnecessary to analyze\n",
    "    return word_list\n",
    "\n",
    "def EmailsToWordDict(my_email):\n",
    "    word_dic = {}\n",
    "    for row in my_email.iterrows():\n",
    "        for word in SentenceToWordList(row[1]['ExtractedBodyText']):\n",
    "            word_dic.setdefault(word, 0)\n",
    "            word_dic[word] += 1\n",
    "    return word_dic\n",
    "\n",
    "# Date format should be like 'XXXX-XX-XX' (e.g. '2010-06-25')\n",
    "def SelectEmailsByDate(my_email, start_date, end_date):\n",
    "    selection = np.where((my_email['MetadataDateSent'] >= start_date) & (my_email['MetadataDateSent'] <= end_date))\n",
    "    if len(selection[0]) == 0:\n",
    "        return []\n",
    "    if len(selection[0]) == 1:\n",
    "        return my_email.iloc[selection[0][0]:1]\n",
    "    return my_email.iloc[selection[0][0]:selection[0][-1]]\n",
    "\n",
    "def TopWords(my_dict, useless_list, num):\n",
    "    top_words = {}\n",
    "    count = 0\n",
    "    for key, value in sorted(my_dict.iteritems(), key=lambda (k,v): (v,k), reverse=True):\n",
    "        if key not in useless_list:\n",
    "            top_words[key] = value\n",
    "            count += 1\n",
    "        if count == num:\n",
    "            break\n",
    "    return top_words\n",
    "\n",
    "emails = pd.read_csv(\"Emails.csv\")\n",
    "sorted_emails = emails[['Id','DocNumber','MetadataDateSent','ExtractedDateSent','ExtractedBodyText']]\n",
    "sorted_emails = sorted_emails.sort_values(by='MetadataDateSent', ascending=True)\n",
    "\n",
    "emails2008 = SelectEmailsByDate(sorted_emails, '2008-01-01', '2008-12-31')\n",
    "emails2009 = SelectEmailsByDate(sorted_emails, '2009-01-01', '2009-12-31')\n",
    "emails2010 = SelectEmailsByDate(sorted_emails, '2010-01-01', '2010-12-31')\n",
    "emails2011 = SelectEmailsByDate(sorted_emails, '2011-01-01', '2011-12-31')\n",
    "emails2012 = SelectEmailsByDate(sorted_emails, '2012-01-01', '2012-12-31')\n",
    "emails2013 = SelectEmailsByDate(sorted_emails, '2013-01-01', '2013-12-31')\n",
    "emails2014 = SelectEmailsByDate(sorted_emails, '2014-01-01', '2014-12-31')"
   ]
  },
  {
   "cell_type": "markdown",
   "metadata": {},
   "source": [
    "## Part2. Analysis Approach\n",
    "At first, with the help of initial code (provided by kaggle), I converted pdf to text file. And from the text, extracted various informations such like \"BodyText\", \"SentDate\", \"SentTo\". <br>\n",
    "I split sentences of bodytext into words with \"Date\" and \"SentTo\" informations.<br> And research the frequency of words so that to know which word is mostly used in particular period or to particular person. <br>\n",
    "Also, I did an basic analysis like 'how many emails sent in 2010 or 2011'."
   ]
  },
  {
   "cell_type": "markdown",
   "metadata": {
    "collapsed": true
   },
   "source": [
    "## Part3. Initial Solution"
   ]
  },
  {
   "cell_type": "markdown",
   "metadata": {},
   "source": [
    "1.Here is an overall summary of emails."
   ]
  },
  {
   "cell_type": "code",
   "execution_count": 53,
   "metadata": {
    "collapsed": false
   },
   "outputs": [
    {
     "name": "stdout",
     "output_type": "stream",
     "text": [
      "-----------------------Summary of Email contents-----------------------\n",
      "Total Number of Emails : 7943\n",
      "Number of emails that 'DateSent' exists : 7811\n",
      "Start date of Email : 2008-05-01\n",
      "Last date of Email : 2014-12-14 \n",
      "\n",
      "Num of email sent on 2008 : 1\n",
      "Num of email sent on 2009 : 3485\n",
      "Num of email sent on 2010 : 4006\n",
      "Num of email sent on 2011 : 51\n",
      "Num of email sent on 2012 : 249\n",
      "Num of email sent on 2013 : 0\n",
      "Num of email sent on 2014 : 1\n",
      "----------------------------------------------------------------------- \n",
      "\n"
     ]
    }
   ],
   "source": [
    "print \"-----------------------Summary of Email contents-----------------------\"\n",
    "total = 0\n",
    "num = 0\n",
    "lastdate = \"\"\n",
    "for row in sorted_emails.iterrows():\n",
    "\ttotal+=1\n",
    "\tif type(row[1]['MetadataDateSent']) != float:\n",
    "\t\tlastdate = row[1]['MetadataDateSent']\n",
    "\t\tnum+=1\n",
    "print \"Total Number of Emails :\", total\n",
    "print \"Number of emails that 'DateSent' exists :\", num\n",
    "print \"Start date of Email :\", sorted_emails.iloc[0]['MetadataDateSent'][0:10]\n",
    "print \"Last date of Email :\", lastdate[0:10], \"\\n\"\n",
    "\n",
    "print \"Num of email sent on 2008 :\", len(emails2008)\n",
    "print \"Num of email sent on 2009 :\", len(emails2009)\n",
    "print \"Num of email sent on 2010 :\", len(emails2010)\n",
    "print \"Num of email sent on 2011 :\", len(emails2011)\n",
    "print \"Num of email sent on 2012 :\", len(emails2012)\n",
    "print \"Num of email sent on 2013 :\", len(emails2013)\n",
    "print \"Num of email sent on 2014 :\", len(emails2014)\n",
    "print \"-----------------------------------------------------------------------\", \"\\n\""
   ]
  },
  {
   "cell_type": "markdown",
   "metadata": {},
   "source": [
    "2.Tried sentiment analysis which is one of the assignments of [first specialization coursera course.](https://www.coursera.org/learn/data-manipulation/home/welcome) <br>\n",
    "I could do possitive-negative analysis based on month by simply use functions already made. However, the result is not that important in this hillary e-mail analysis."
   ]
  },
  {
   "cell_type": "code",
   "execution_count": 54,
   "metadata": {
    "collapsed": false
   },
   "outputs": [
    {
     "name": "stdout",
     "output_type": "stream",
     "text": [
      "-------------------------------Sentiment Analysis-------------------------------\n",
      "positive index of 2009 : 3811 ,and divided by total number : 1.09354375897\n",
      "positive index of 2010 : 5500 ,and divided by total number : 1.37294058912\n",
      "positive index of 2011 : -13 ,and divided by total number : -0.254901960784\n",
      "positive index of 2012 : 183 ,and divided by total number : 0.734939759036\n",
      "--------------------------------------------------------------------------------\n"
     ]
    }
   ],
   "source": [
    "print \"-------------------------------Sentiment Analysis-------------------------------\"\n",
    "score2009 = WordDicToScore(EmailsToWordDict(emails2009))\n",
    "score2010 = WordDicToScore(EmailsToWordDict(emails2010))\n",
    "score2011 = WordDicToScore(EmailsToWordDict(emails2011))\n",
    "score2012 = WordDicToScore(EmailsToWordDict(emails2012))\n",
    "print \"positive index of 2009 :\", score2009, \",and divided by total number :\", float(score2009)/len(emails2009)\n",
    "print \"positive index of 2010 :\", score2010, \",and divided by total number :\", float(score2010)/len(emails2010)\n",
    "print \"positive index of 2011 :\", score2011, \",and divided by total number :\", float(score2011)/len(emails2011)\n",
    "print \"positive index of 2012 :\", score2012, \",and divided by total number :\", float(score2012)/len(emails2012)\n",
    "print \"--------------------------------------------------------------------------------\""
   ]
  },
  {
   "cell_type": "markdown",
   "metadata": {},
   "source": [
    "3.Count words most frequently used."
   ]
  },
  {
   "cell_type": "code",
   "execution_count": 55,
   "metadata": {
    "collapsed": false
   },
   "outputs": [
    {
     "name": "stdout",
     "output_type": "stream",
     "text": [
      "the: 31286\n",
      "to: 17526\n",
      "and: 14522\n",
      "of: 13947\n",
      "a: 11072\n",
      "in: 10728\n",
      "that: 6451\n",
      "for: 6040\n",
      "is: 5969\n",
      "on: 5569\n",
      "i: 4223\n",
      "with: 4051\n",
      "you: 3767\n",
      "it: 3524\n",
      "as: 3382\n",
      ": 3265\n",
      "he: 3008\n",
      "be: 2968\n",
      "this: 2929\n",
      "we: 2928\n",
      "have: 2919\n",
      "was: 2803\n",
      "will: 2762\n",
      "are: 2589\n",
      "at: 2546\n",
      "from: 2437\n",
      "by: 2411\n",
      "but: 2411\n",
      "not: 2337\n",
      "his: 2265\n",
      "has: 2153\n",
      "pm: 2143\n",
      "am: 2095\n",
      "they: 1922\n",
      "an: 1838\n",
      "us: 1816\n",
      "state: 1623\n",
      "no: 1539\n",
      "would: 1531\n",
      "about: 1519\n",
      "who: 1516\n",
      "or: 1473\n",
      "can: 1445\n",
      "if: 1401\n",
      "its: 1396\n",
      "their: 1395\n",
      "all: 1299\n",
      "so: 1265\n",
      "our: 1262\n",
      "do: 1234\n"
     ]
    }
   ],
   "source": [
    "useless_words = []\n",
    "word_dict = EmailsToWordDict(sorted_emails)\n",
    "top = TopWords(word_dict, useless_words, 50)\n",
    "\n",
    "for key, value in sorted(top.iteritems(), key=lambda (k,v): (v,k), reverse=True):\n",
    "    if value > 20:\n",
    "        print \"%s: %s\" % (key, value)"
   ]
  },
  {
   "cell_type": "markdown",
   "metadata": {},
   "source": [
    "## Part4. Initial Solution analysis\n",
    "For the initial try, I did an 3 works(summary, positive-negataive analysis, words-count).\n",
    "1. For the summary, it was quite easy task and nothing to change\n",
    "2. Positive-negative analysis' conclusion looks interesting for me. Unlike others, the E-mails shows only negative on year 2012. Maybe later, I will analyze more deeply using open source tool like [NLTK.](http://www.nltk.org/)\n",
    "3. For the third task, it seems works well. However, it contains too many useless words. The 'useless word' ,in this case, means **not helpful for analysis sentence. (e.g. preposition, pronoun, ...)**"
   ]
  },
  {
   "cell_type": "markdown",
   "metadata": {},
   "source": [
    "## Part 5. Revised Solution and Analysis\n",
    "I am going to change some code to solve the third job's problem. I added 'Useless_words.txt' which is consisted of words that inconducive to analyzing sentences and words. <br>\n",
    "Based on 'Useless_words.txt', if word is included to textfile, I exclude that word from analysis."
   ]
  },
  {
   "cell_type": "code",
   "execution_count": 119,
   "metadata": {
    "collapsed": false
   },
   "outputs": [
    {
     "name": "stdout",
     "output_type": "stream",
     "text": [
      "--------------------Words used most frequently overall--------------------\n"
     ]
    },
    {
     "data": {
      "image/png": "[encoded data removed]",
      "text/plain": [
       "<matplotlib.figure.Figure at 0x1197c1ad0>"
      ]
     },
     "metadata": {},
     "output_type": "display_data"
    },
    {
     "name": "stdout",
     "output_type": "stream",
     "text": [
      "-------------------------------------------------------------------------- \n",
      "\n",
      "--------------------Words used most frequently on 2009--------------------\n"
     ]
    },
    {
     "data": {
      "image/png": "[encoded data removed]",
      "text/plain": [
       "<matplotlib.figure.Figure at 0x1197c1710>"
      ]
     },
     "metadata": {},
     "output_type": "display_data"
    },
    {
     "name": "stdout",
     "output_type": "stream",
     "text": [
      "-------------------------------------------------------------------------- \n",
      "\n",
      "--------------------Words used most frequently on 2010--------------------\n"
     ]
    },
    {
     "data": {
      "image/png": "[encoded data removed]",
      "text/plain": [
       "<matplotlib.figure.Figure at 0x1197c1390>"
      ]
     },
     "metadata": {},
     "output_type": "display_data"
    },
    {
     "name": "stdout",
     "output_type": "stream",
     "text": [
      "-------------------------------------------------------------------------- \n",
      "\n",
      "--------------------Words used most frequently on 2011--------------------\n"
     ]
    },
    {
     "data": {
      "image/png": "[encoded data removed]",
      "text/plain": [
       "<matplotlib.figure.Figure at 0x115280790>"
      ]
     },
     "metadata": {},
     "output_type": "display_data"
    },
    {
     "name": "stdout",
     "output_type": "stream",
     "text": [
      "-------------------------------------------------------------------------- \n",
      "\n",
      "--------------------Words used most frequently on 2012--------------------\n"
     ]
    },
    {
     "data": {
      "image/png": "[encoded data removed]",
      "text/plain": [
       "<matplotlib.figure.Figure at 0x11ade5710>"
      ]
     },
     "metadata": {},
     "output_type": "display_data"
    },
    {
     "name": "stdout",
     "output_type": "stream",
     "text": [
      "--------------------------------------------------------------------------\n"
     ]
    }
   ],
   "source": [
    "useless_words = []\n",
    "useless = open(\"useless_word.txt\")\n",
    "for line in useless:\n",
    "    useless_words.append(line.rstrip('\\n'))\n",
    "\n",
    "top_overall = TopWords(EmailsToWordDict(sorted_emails), useless_words, 15)\n",
    "top_2009 = TopWords(EmailsToWordDict(emails2009), useless_words, 15)\n",
    "top_2010 = TopWords(EmailsToWordDict(emails2010), useless_words, 15)\n",
    "top_2011 = TopWords(EmailsToWordDict(emails2011), useless_words, 15)\n",
    "top_2012 = TopWords(EmailsToWordDict(emails2012), useless_words, 15)\n",
    "\n",
    "def DrawResult(my_diction):\n",
    "    a = sorted(my_diction.iteritems(), key=lambda (k,v): (v,k), reverse=True)\n",
    "    a1 = []\n",
    "    a2 = []\n",
    "    for key, value in a:\n",
    "        try:\n",
    "            key.encode(\"utf8\")\n",
    "            a1.append(key)\n",
    "            a2.append(value)\n",
    "        except:\n",
    "            pass\n",
    "    \n",
    "    N = len(a1)\n",
    "    words = tuple(a2)\n",
    "\n",
    "    ind = np.flipud(np.arange(N))  # the x locations for the groups\n",
    "    width = 0.7       # the width of the bars\n",
    "\n",
    "    plt.figure(figsize=(8,4))\n",
    "    plt.barh(ind, words, width, align = 'center', color='b')\n",
    "\n",
    "    plt.xlabel('Frequency')\n",
    "    plt.title('Words')\n",
    "    plt.yticks(ind, tuple(a1))\n",
    "    plt.show()\n",
    "\n",
    "print \"--------------------Words used most frequently overall--------------------\"\n",
    "DrawResult(top_overall)\n",
    "print \"--------------------------------------------------------------------------\", \"\\n\"\n",
    "print \"--------------------Words used most frequently on 2009--------------------\"\n",
    "DrawResult(top_2009)\n",
    "print \"--------------------------------------------------------------------------\", \"\\n\"\n",
    "print \"--------------------Words used most frequently on 2010--------------------\"\n",
    "DrawResult(top_2010)\n",
    "print \"--------------------------------------------------------------------------\", \"\\n\"\n",
    "print \"--------------------Words used most frequently on 2011--------------------\"\n",
    "DrawResult(top_2011)\n",
    "print \"--------------------------------------------------------------------------\", \"\\n\"\n",
    "print \"--------------------Words used most frequently on 2012--------------------\"\n",
    "DrawResult(top_2012)\n",
    "print \"--------------------------------------------------------------------------\""
   ]
  },
  {
   "cell_type": "markdown",
   "metadata": {},
   "source": [
    "This is quite interesting results. Overall, you can check that hillary used 'president', 'obama', 'state' many times. And focus on year 2011, 2012. Particulary words 'benghazi', and 'libya' meet the eye.\n",
    "\n",
    "**Later, I will analyze mails which BodyText contains the word 'libya' or 'benghazi', then I can do really many analysis. (For example, which topic is related to 'benghazi'. Or, overall positive-negative tone of mail.)** <br>\n",
    "And, also I will apply [NLTK(Natural Language Tool Kit)](http://www.nltk.org/) to those mails. <br>\n",
    "<br>\n",
    "I just briefly concluded for the coursera course's assignment."
   ]
  },
  {
   "cell_type": "code",
   "execution_count": null,
   "metadata": {
    "collapsed": true
   },
   "outputs": [],
   "source": []
  },
  {
   "cell_type": "code",
   "execution_count": null,
   "metadata": {
    "collapsed": true
   },
   "outputs": [],
   "source": []
  },
  {
   "cell_type": "code",
   "execution_count": null,
   "metadata": {
    "collapsed": true
   },
   "outputs": [],
   "source": []
  }
 ],
 "metadata": {
  "kernelspec": {
   "display_name": "Python 2",
   "language": "python",
   "name": "python2"
  },
  "language_info": {
   "codemirror_mode": {
    "name": "ipython",
    "version": 2
   },
   "file_extension": ".py",
   "mimetype": "text/x-python",
   "name": "python",
   "nbconvert_exporter": "python",
   "pygments_lexer": "ipython2",
   "version": "2.7.11"
  }
 },
 "nbformat": 4,
 "nbformat_minor": 0
}
